{
 "cells": [
  {
   "cell_type": "code",
   "execution_count": null,
   "id": "c21ab453-9554-4fb1-b421-76e9fc37a647",
   "metadata": {},
   "outputs": [],
   "source": [
    "## 准备"
   ]
  },
  {
   "cell_type": "code",
   "execution_count": null,
   "id": "153a914e-f6f5-4847-8f90-99d1c5aef427",
   "metadata": {},
   "outputs": [],
   "source": [
    "!pip install selenium -i https://pypi.sjtug.sjtu.edu.cn/simple/\n",
    "#使用上海交通大学镜像源，防止selenium下载过慢导致失败\n",
    "#selenium-最主要的爬虫包，模仿用户操作\n",
    "import pandas as pd\n",
    "#数据框处理\n",
    "import time\n",
    "#time.sleep()，强制等待\n",
    "from selenium.webdriver.common.by import By\n",
    "#选择器\n",
    "from selenium.webdriver.support.ui import WebDriverWait\n",
    "#等待器\n",
    "from selenium.webdriver.support import expected_conditions as EC\n",
    "#显式等待附件[1]\n",
    "from selenium.webdriver.common.action_chains import ActionChains\n",
    "#模拟悬停操作"
   ]
  },
  {
   "cell_type": "code",
   "execution_count": null,
   "id": "96384617-049c-4e2c-9ad5-9cdbe3a0c93e",
   "metadata": {},
   "outputs": [],
   "source": [
    "### 注释 \n",
    "[1]  \n",
    "Selenium WebDriver提供了两种等待机制：显式等待（Explicit Wait）和隐式等待（Implicit Wait）。它们都用于处理网页上的元素加载问题，但使用场景和工作原理有所不同。"
   ]
  },
  {
   "cell_type": "code",
   "execution_count": null,
   "id": "37729d66-6e13-43a2-9315-966a371f2ef9",
   "metadata": {},
   "outputs": [],
   "source": [
    "#### 显式等待\n",
    "显式等待是一种更灵活、更强大、更推荐的方法。它允许你指定一个条件，WebDriver会等待直到该条件成立，或者达到一个设定的超时时间。显式等待通常使用`WebDriverWait`类和`expected_conditions`模块。\n",
    "\n",
    "**特点**：\n",
    "- 可以等待特定的条件，如元素出现、元素可见、元素可点击等。\n",
    "- 可以设置超时时间，避免无限期等待。\n",
    "- 可以提供更清晰的错误信息，因为WebDriver会在等待超时后抛出异常。\n",
    "\n",
    "**示例**：\n",
    "```python\n",
    "from selenium.webdriver.support.ui import WebDriverWait\n",
    "from selenium.webdriver.support import expected_conditions as EC\n",
    "\n",
    "driver = ...  # 你的WebDriver实例\n",
    "wait = WebDriverWait(driver, 10)  # 设置最大等待时间10秒\n",
    "element = wait.until(EC.presence_of_element_located((By.ID, \"myElement\")))\n",
    "```"
   ]
  },
  {
   "cell_type": "code",
   "execution_count": null,
   "id": "ed931da9-7b16-483c-b226-25d5132fd0ae",
   "metadata": {},
   "outputs": [],
   "source": [
    "#### 隐式等待\n",
    "隐式等待是Selenium早期版本中的一种等待机制，它在每次查找元素时自动等待，直到找到元素或达到默认的等待时间（通常是30秒）。\n",
    "\n",
    "**特点**：\n",
    "- 在查找元素时自动等待，不需要显式调用等待条件。\n",
    "- 对于所有查找操作都是全局生效的。\n",
    "- 等待时间是固定的，不能针对不同条件设置不同的等待时间。\n",
    "\n",
    "**示例**：\n",
    "```python\n",
    "driver = ...  # 你的WebDriver实例\n",
    "driver.implicitly_wait(10)  # 设置隐式等待时间为10秒\n",
    "element = driver.find_element_by_id(\"myElement\")\n",
    "```"
   ]
  },
  {
   "cell_type": "code",
   "execution_count": null,
   "id": "c3b5eb78-c47c-403e-8eef-27476dc8da9d",
   "metadata": {},
   "outputs": [],
   "source": [
    "#### 区别\n",
    "1. **灵活性**：显式等待更灵活，可以为不同的条件设置不同的等待策略。\n",
    "2. **效率**：显式等待通常更高效，因为它只在必要时才等待，而隐式等待会在每次元素查找时都进行等待。\n",
    "3. **错误处理**：显式等待在超时时会抛出异常，便于调试；隐式等待则可能导致测试在超时后继续执行，增加了调试难度。\n",
    "4. **推荐性**：显式等待是Selenium官方推荐的做法，因为它提供了更好的控制和更清晰的错误信息。\n",
    "\n",
    "总的来说，显式等待提供了更多的控制和灵活性，使得测试脚本更加健壮和可靠。隐式等待虽然简单，但在大多数情况下，显式等待是更好的选择。"
   ]
  },
  {
   "cell_type": "code",
   "execution_count": null,
   "id": "60e5f91e-0027-49e5-98ba-003206f605cf",
   "metadata": {},
   "outputs": [],
   "source": [
    "## 主程序\n",
    "\n",
    "目的是在一级页面读取多个可点击的元素并进入二级页面，在二级页面循环执行悬停操作并读取数据列表，最后统一存入一个文件夹并合成为一个文件导出。"
   ]
  },
  {
   "cell_type": "code",
   "execution_count": null,
   "id": "0756414c-7575-4536-a437-08b4e844cf81",
   "metadata": {},
   "outputs": [],
   "source": [
    "from selenium import webdriver\n",
    "driver=webdriver.Chrome()\n",
    "driver.get('http://baidu.com')\n",
    "#打开对象浏览器\n",
    "#可能要多等待一会"
   ]
  },
  {
   "cell_type": "code",
   "execution_count": null,
   "id": "3117195e-a627-495a-b911-db791e8d663d",
   "metadata": {},
   "outputs": [],
   "source": [
    "all_handles=driver.window_handles\n",
    "print(all_handles)\n",
    "driver.switch_to.window(all_handles[-1])\n",
    "current_handle=driver.current_window_handle\n",
    "print(current_handle)\n",
    "#打开多个窗口时句柄不会自动更新\n",
    "#句柄获取及更新"
   ]
  },
  {
   "cell_type": "code",
   "execution_count": null,
   "id": "cd01ac82-7932-42d0-b85e-d23f982090e7",
   "metadata": {},
   "outputs": [],
   "source": [
    "index=0\n",
    "# 创建一个空的DataFrame，预定义两列的列名\n",
    "df = pd.DataFrame(columns=[\"指标编码\", \"数据来源\"])\n",
    "\n",
    "while True:\n",
    "    index+=1\n",
    "\n",
    "    try:\n",
    "        wait = WebDriverWait(driver, 10)\n",
    "        # 使用locate elements方法查找所有具有class '自定义' 的元素\n",
    "        elements = wait.until(EC.presence_of_all_elements_located((By.CLASS_NAME, 'defaultColor')))\n",
    "        print('已更新元素列表')\n",
    "        # 在需要多级页面加载并返回的操作中，原先所获取的元素列表会报错，显示stale elements error\n",
    "        # 所以当我们每一次回到上一级页面时都需要更新元素列表\n",
    "        # 这也是我为什么不用for语句而用while语句\n",
    "        wait.until(EC.element_to_be_clickable(elements[index]))\n",
    "        elements[index].click()\n",
    "        time.sleep(5)\n",
    "        # 强制等待\n",
    "        # 显示等待和隐式等待都是等到页面相对应的元素出现，或者可定位，或者可点击，就会执行下一步。\n",
    "        # 但是往往页面中有多个重复的类元素，无法完全加载，就会执行下一步操作导致许多数据漏掉。\n",
    "        # 所以一般操作的时候我选择强制等待，根据经验设置5~10秒钟。\n",
    "    \n",
    "    except:\n",
    "        try:\n",
    "            print(\"元素被其他元素遮挡，尝试使用JavaScript点击\")\n",
    "            # 使用JavaScript点击元素\n",
    "            wait = WebDriverWait(driver, 10)\n",
    "            elements = wait.until(EC.presence_of_all_elements_located((By.CLASS_NAME, 'defaultColor')))\n",
    "            driver.execute_script(\"arguments[0].click();\", elements[index])\n",
    "            # 点击第三或第4个元素时可能会显示该元素被遮挡无法点击，暂时还没有找到报错的原因\n",
    "            # 这个问题可以用上面的js方法强制点击\n",
    "        except:\n",
    "             # 等待页面元素加载完成\n",
    "            print('Java点击失败')\n",
    "# 这里的try和except不是乱写的。如果在页面里面找不到可以区分的标签\n",
    "# 有一些杂质元素也被包含在了目标对象里，就需要这种格式来避免`wait.until`类代码报错\n",
    "    \n",
    "\n",
    "# 由于页面中的一些元素，需要在悬停时显示悬浮窗(tooltip)后方可加载\n",
    "# 所以接下来要执行模拟用户鼠标悬停操作\n",
    "    time.sleep(10)\n",
    "    wait = WebDriverWait(driver, 10)\n",
    "    titles = wait.until(EC.visibility_of_all_elements_located((By.CLASS_NAME, \"limit\")))\n",
    "    \n",
    "    # 创建ActionChains对象\n",
    "    actions = ActionChains(driver)\n",
    "\n",
    "    # 遍历所有class为limit的元素，并模拟鼠标悬停\n",
    "    count=0\n",
    "    for title in titles:\n",
    "        count+=1\n",
    "        actions.move_to_element(title).perform()\n",
    "        time.sleep(1)\n",
    "        # 这里一秒左右的强制等待也应该考虑，可以提高数据获取的稳定性\n",
    "    print(f\"已扫过{count}条数据\")\n",
    "\n",
    "    # 定位所有class为ant-popover-inner-content的元素\n",
    "    # 这假设了每个悬浮窗口的内容都被包裹在具有这个类的div中\n",
    "    wait = WebDriverWait(driver, 10)\n",
    "    time.sleep(5)\n",
    "    popover_contents = wait.until(EC.presence_of_all_elements_located((By.CLASS_NAME, \"ant-popover-inner-content\")))\n",
    "    \n",
    "    line=0\n",
    "    for popover_content in popover_contents:\n",
    "        # 在每个.ant-popover-inner-content中，定位到.expressionshow元素\n",
    "        expressionshow = popover_content.find_element(By.CLASS_NAME, \"expressionshow\")\n",
    "        # 这里我曾经试过直接定位expression受这个元素，但是效果不太好\n",
    "        # 先加载它的上一级菜单Pop over可以提高元素获取的完整度\n",
    "        \n",
    "        # 获取第一个p标签内的span标签文本，即编码\n",
    "        first_p_span = expressionshow.find_element(By.XPATH, './/p[1]/span')\n",
    "        first_item_code = first_p_span.get_attribute(\"textContent\").strip()\n",
    "    \n",
    "        # 获取最后一个p标签内的文本，即填报内容\n",
    "        last_p = expressionshow.find_element(By.XPATH, './/p[last()]')\n",
    "        last_item_text = last_p.get_attribute(\"textContent\").strip()\n",
    "        # 假设 '数据来源：' 后面紧跟的是所需文本\n",
    "        # 使用split方法分割文本，并取分割后的第二部分（索引为1）\n",
    "        data_source_text = last_item_text.split(\"数据来源：\")[1].strip()\n",
    "        # 追加数据到DataFrame\n",
    "        df = df._append({'指标编码': first_item_code, '数据来源': data_source_text}, ignore_index=True)\n",
    "        line+=1\n",
    "    print(f\"已录入{line}条数据\")\n",
    "\n",
    "    driver.back()\n",
    "    time.sleep(10)"
   ]
  },
  {
   "cell_type": "code",
   "execution_count": null,
   "id": "1abb7d86-96aa-4416-94f9-fe4656f622bd",
   "metadata": {},
   "outputs": [],
   "source": [
    "## 文件导出"
   ]
  },
  {
   "cell_type": "code",
   "execution_count": null,
   "id": "dba56ffa-212b-409f-9252-2f176b01e7f6",
   "metadata": {},
   "outputs": [],
   "source": [
    "# 数据获取完成后还存在数据框内，需要导出到Excel文件\n",
    "df.to_excel('patch3.xlsx', index=False)\n",
    "# 这里默认的保存路径就是当前工作的列表\n",
    "# 当前工作路径设置请参考另一篇jupyter使用心得\n",
    "df = df.drop(df.index)\n",
    "# 用来清除数据框内所有数据，方便执行下一次的循环"
   ]
  },
  {
   "cell_type": "code",
   "execution_count": null,
   "id": "1782d78c-0e87-4855-8ea2-0d2284446544",
   "metadata": {},
   "outputs": [],
   "source": [
    "# 现在需要将多次循环获得的矩阵数据放入同一个Excel表。\n",
    "pip install pandas openpyxl\n",
    "\n",
    "import os\n",
    "folder_path=\"D:\\\\temp\\\\jupyter projects\\\\单病种质控\"\n",
    "# 这里填入所有矩阵数据存放的目标文件夹\n",
    "output_path=\"D:\\\\temp\\\\jupyter projects\\\\单病种pro.xlsx\"\n",
    "# 这里填入你要生成的Excel表名称\n",
    "# 如果该路径下已经存在同名文件会自动覆盖\n",
    "files=[f for f in os.listdir(folder_path) if f.endswith('.xlsx')]\n",
    "\n",
    "merged_df=pd.DataFrame()\n",
    "\n",
    "for file in files:\n",
    "    file_path=os.path.join(folder_path,file)\n",
    "    df=pd.read_excel(file_path,usecols=['指标编码','数据来源'])\n",
    "    merged_df=pd.concat([merged_df,df],ignore_index=True)\n",
    "with pd.ExcelWriter(output_path,engine='openpyxl') as writer:\n",
    "    writer.book.create_sheet('Sheet1')\n",
    "    merged_df.to_excel(writer,index=False)\n",
    "    # 一般来讲，这里执行完with语句后会自动关闭\n",
    "    # 但有可能遇到python依旧占用该表而无法进行下一步操作的情况\n",
    "print('done！')"
   ]
  },
  {
   "cell_type": "code",
   "execution_count": null,
   "id": "03a71931-7e46-4905-b267-253438a9f0dd",
   "metadata": {},
   "outputs": [],
   "source": [
    "sessionid=driver.session_id\n",
    "# 这里的session是我想控制已经打开的窗口\n",
    "# 必须从程序拉起才能控制窗口吗？\n",
    "# 待解答"
   ]
  },
  {
   "cell_type": "code",
   "execution_count": null,
   "id": "54db5589-37ad-4f2c-aef3-15f48b4f39fa",
   "metadata": {},
   "outputs": [],
   "source": []
  }
 ],
 "metadata": {
  "kernelspec": {
   "display_name": "Python 3 (ipykernel)",
   "language": "python",
   "name": "python3"
  },
  "language_info": {
   "codemirror_mode": {
    "name": "ipython",
    "version": 3
   },
   "file_extension": ".py",
   "mimetype": "text/x-python",
   "name": "python",
   "nbconvert_exporter": "python",
   "pygments_lexer": "ipython3",
   "version": "3.12.4"
  }
 },
 "nbformat": 4,
 "nbformat_minor": 5
}
